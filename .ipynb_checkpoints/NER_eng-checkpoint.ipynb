{
 "cells": [
  {
   "cell_type": "code",
   "execution_count": 1,
   "metadata": {},
   "outputs": [],
   "source": [
    "from __future__ import absolute_import, division, print_function\n",
    "import numpy as np\n",
    "import os\n",
    "import sys\n",
    "sys.path.append(os.path.abspath('./'))\n",
    "import casimir.data.named_entity_recognition as ner  # noqa: E402\n",
    "import casimir.optim as optim  # noqa: E402"
   ]
  },
  {
   "cell_type": "code",
   "execution_count": 2,
   "metadata": {},
   "outputs": [],
   "source": [
    "train_file = 'data/ner/eng.train'\n",
    "dev_file = 'data/ner/eng.testa'\n",
    "test_file = 'data/ner/eng.testb'\n",
    "\n",
    "assert os.path.isfile(train_file), 'train_file {} does not exist'.format(train_file)\n",
    "assert os.path.isfile(dev_file), 'dev_file {} does not exist'.format(dev_file)\n",
    "assert os.path.isfile(test_file), 'test_file {} does not exist'.format(test_file)"
   ]
  },
  {
   "cell_type": "code",
   "execution_count": 3,
   "metadata": {},
   "outputs": [
    {
     "name": "stdout",
     "output_type": "stream",
     "text": [
      "l2reg: 7.1219998575600035e-06\n",
      "Epoch\t\tFunction\t\tDev_function\tDev_evaluation\t\tTime\n",
      "0.00\t\t14.50188733\t\t15.803692\t\t0.019034\t\t56.06\n"
     ]
    },
    {
     "name": "stderr",
     "output_type": "stream",
     "text": [
      "/home/runtian/anaconda3/envs/casimir/lib/python3.6/site-packages/sklearn/metrics/_classification.py:1515: UndefinedMetricWarning: F-score is ill-defined and being set to 0.0 in labels with no true nor predicted samples. Use `zero_division` parameter to control this behavior.\n",
      "  average, \"true nor predicted\", 'F-score is', len(true_sum)\n"
     ]
    },
    {
     "name": "stdout",
     "output_type": "stream",
     "text": [
      "1.00\t\t4.44737810\t\t5.101916\t\t0.620004\t\t209.03\n",
      "2.00\t\t2.85205273\t\t3.282753\t\t0.711367\t\t192.88\n",
      "3.00\t\t2.45146871\t\t2.983348\t\t0.729741\t\t200.78\n",
      "4.00\t\t1.95302028\t\t2.553582\t\t0.746138\t\t197.81\n",
      "5.00\t\t1.68331250\t\t2.386698\t\t0.756444\t\t200.51\n",
      "6.00\t\t1.50544692\t\t2.289160\t\t0.762231\t\t199.76\n",
      "7.00\t\t1.39805106\t\t2.239929\t\t0.767289\t\t201.69\n",
      "8.00\t\t1.32876999\t\t2.214173\t\t0.769398\t\t201.74\n",
      "9.00\t\t1.28147001\t\t2.204602\t\t0.772379\t\t201.56\n",
      "10.00\t\t1.24629827\t\t2.201327\t\t0.772924\t\t198.66\n",
      "[[0, 14.501887329962253, 15.803692307692307, 0.01903370017292171, 56.05784797668457], [1, 4.447378098873719, 5.101915706138777, 0.6200035294846673, 209.03260374069214], [2, 2.852052727227906, 3.2827530112038774, 0.7113667971641784, 192.8810167312622], [3, 2.4514687083512543, 2.9833478940404707, 0.7297408803470422, 200.78296780586243], [4, 1.9530202849435019, 2.553582391069772, 0.7461378227028524, 197.81188893318176], [5, 1.6833124992135724, 2.3866976133212527, 0.7564435903837362, 200.5123734474182], [6, 1.505446924641066, 2.2891599289775617, 0.7622310249459336, 199.7581901550293], [7, 1.398051064952389, 2.239928515481737, 0.7672890841025962, 201.69195914268494], [8, 1.328769985750289, 2.214173124233203, 0.7693982042671681, 201.73960399627686], [9, 1.2814700138437842, 2.2046023142409754, 0.7723790048780862, 201.55816888809204], [10, 1.2462982686049784, 2.201326814461054, 0.7729243997966762, 198.66031885147095]]\n"
     ]
    }
   ],
   "source": [
    "# Step 1: Create IFO from input files\n",
    "train_ifo, dev_ifo, test_ifo = ner.create_ner_ifo_from_data(train_file, dev_file, test_file,\n",
    "                                                            smoothing_coefficient=10.0, num_highest_scores=5)\n",
    "\n",
    "# Step 2: Set optimization parameters\n",
    "l2reg = 0.1 / len(train_ifo)\n",
    "print('l2reg:', l2reg)\n",
    "l2penalty = optim.L2Penalty(l2reg)\n",
    "\n",
    "dim = 2**16 - 1  # hard-coded. All features are hashed onto these dimensions.\n",
    "model = np.zeros(dim)\n",
    "\n",
    "# Step 3: Set optim_options and run optimization\n",
    "\n",
    "# Casimir-SVRG, constant smoothing\n",
    "optim_options_1 = {'grad_lipschitz_parameter': 32.0, 'initial_smoothing_coefficient': 10.0,\n",
    "                   'warm_start': 'prev-iterate'}\n",
    "\n",
    "# Casimir-SVRG, decaying smoothing\n",
    "optim_options_2 = {'learning_rate': 2e-2, 'initial_smoothing_coefficient': 2.0, 'initial_moreau_coefficient': l2reg,\n",
    "                   'warm_start': 'extrapolation'}\n",
    "\n",
    "num_passes = 10\n",
    "\n",
    "# Run optimization\n",
    "model, logs = optim.optimize_ifo(model, train_ifo, algorithm='casimir_svrg', dev_ifo=dev_ifo, test_ifo=None,\n",
    "                                 reg_penalties=[l2penalty], num_passes=num_passes, termination_criterion=None, seed=25,\n",
    "                                 logging=True, verbose=True,\n",
    "                                 optim_options=optim_options_2)"
   ]
  },
  {
   "cell_type": "code",
   "execution_count": 6,
   "metadata": {},
   "outputs": [
    {
     "data": {
      "text/plain": [
       "(65535,)"
      ]
     },
     "execution_count": 6,
     "metadata": {},
     "output_type": "execute_result"
    }
   ],
   "source": [
    "model.shape"
   ]
  },
  {
   "cell_type": "code",
   "execution_count": null,
   "metadata": {},
   "outputs": [],
   "source": []
  }
 ],
 "metadata": {
  "kernelspec": {
   "display_name": "Python 3",
   "language": "python",
   "name": "python3"
  },
  "language_info": {
   "codemirror_mode": {
    "name": "ipython",
    "version": 3
   },
   "file_extension": ".py",
   "mimetype": "text/x-python",
   "name": "python",
   "nbconvert_exporter": "python",
   "pygments_lexer": "ipython3",
   "version": "3.6.10"
  }
 },
 "nbformat": 4,
 "nbformat_minor": 4
}
