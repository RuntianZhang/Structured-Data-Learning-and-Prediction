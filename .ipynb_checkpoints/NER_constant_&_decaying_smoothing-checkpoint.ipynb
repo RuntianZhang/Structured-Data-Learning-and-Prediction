{
 "cells": [
  {
   "cell_type": "code",
   "execution_count": 1,
   "metadata": {},
   "outputs": [],
   "source": [
    "from __future__ import absolute_import, division, print_function\n",
    "import numpy as np\n",
    "import os\n",
    "import sys\n",
    "sys.path.append(os.path.abspath('./'))\n",
    "import casimir.data.named_entity_recognition as ner  # noqa: E402\n",
    "import casimir.optim as optim  # noqa: E402"
   ]
  },
  {
   "cell_type": "code",
   "execution_count": 2,
   "metadata": {},
   "outputs": [],
   "source": [
    "train_file = 'data/ner/eng.train'\n",
    "dev_file = 'data/ner/eng.testa'\n",
    "test_file = 'data/ner/eng.testb'\n",
    "\n",
    "assert os.path.isfile(train_file), 'train_file {} does not exist'.format(train_file)\n",
    "assert os.path.isfile(dev_file), 'dev_file {} does not exist'.format(dev_file)\n",
    "assert os.path.isfile(test_file), 'test_file {} does not exist'.format(test_file)"
   ]
  },
  {
   "cell_type": "code",
   "execution_count": 3,
   "metadata": {
    "scrolled": true
   },
   "outputs": [
    {
     "name": "stdout",
     "output_type": "stream",
     "text": [
      "l2reg: 7.1219998575600035e-06\n",
      "Epoch\t\tFunction\t\tDev_function\tDev_evaluation\t\tTime\n",
      "0.00\t\t14.50188733\t\t15.803692\t\t0.019034\t\t59.69\n"
     ]
    },
    {
     "name": "stderr",
     "output_type": "stream",
     "text": [
      "/home/runtian/anaconda3/envs/casimir/lib/python3.6/site-packages/sklearn/metrics/_classification.py:1515: UndefinedMetricWarning: F-score is ill-defined and being set to 0.0 in labels with no true nor predicted samples. Use `zero_division` parameter to control this behavior.\n",
      "  average, \"true nor predicted\", 'F-score is', len(true_sum)\n"
     ]
    },
    {
     "name": "stdout",
     "output_type": "stream",
     "text": [
      "1.00\t\t5.89490676\t\t6.700893\t\t0.601836\t\t221.85\n",
      "2.00\t\t3.31643289\t\t3.776171\t\t0.697645\t\t222.54\n",
      "3.00\t\t2.62640527\t\t3.135001\t\t0.728971\t\t226.48\n",
      "4.00\t\t2.28783708\t\t2.899388\t\t0.743679\t\t237.09\n",
      "5.00\t\t2.07657627\t\t2.771087\t\t0.750736\t\t220.89\n",
      "6.00\t\t1.94242591\t\t2.717623\t\t0.759156\t\t220.41\n",
      "7.00\t\t1.85852135\t\t2.695857\t\t0.761562\t\t225.32\n",
      "8.00\t\t1.79890189\t\t2.691886\t\t0.765487\t\t221.52\n",
      "9.00\t\t1.75603711\t\t2.700281\t\t0.767996\t\t214.16\n",
      "10.00\t\t1.72412908\t\t2.716349\t\t0.767356\t\t212.71\n",
      "11.00\t\t1.69756761\t\t2.727081\t\t0.768191\t\t217.29\n",
      "12.00\t\t1.67770720\t\t2.745859\t\t0.768911\t\t238.85\n",
      "13.00\t\t1.65964398\t\t2.764059\t\t0.769580\t\t237.27\n",
      "14.00\t\t1.64568479\t\t2.783874\t\t0.770184\t\t245.64\n",
      "15.00\t\t1.63384286\t\t2.803496\t\t0.771425\t\t231.08\n",
      "16.00\t\t1.62175653\t\t2.821017\t\t0.771155\t\t239.39\n",
      "17.00\t\t1.61175141\t\t2.839639\t\t0.771534\t\t240.17\n",
      "18.00\t\t1.60433639\t\t2.857796\t\t0.771207\t\t244.00\n",
      "19.00\t\t1.59827023\t\t2.877084\t\t0.771235\t\t273.24\n",
      "20.00\t\t1.59063958\t\t2.893745\t\t0.771244\t\t254.98\n",
      "21.00\t\t1.58433138\t\t2.911516\t\t0.771968\t\t252.85\n",
      "22.00\t\t1.57853393\t\t2.928050\t\t0.772519\t\t250.86\n",
      "23.00\t\t1.57380019\t\t2.944144\t\t0.773252\t\t261.37\n",
      "24.00\t\t1.56873816\t\t2.958667\t\t0.771496\t\t284.13\n",
      "25.00\t\t1.56433593\t\t2.974909\t\t0.771538\t\t294.37\n",
      "26.00\t\t1.56052736\t\t2.994399\t\t0.771824\t\t301.99\n",
      "27.00\t\t1.55790557\t\t3.008585\t\t0.772716\t\t303.18\n",
      "28.00\t\t1.55405938\t\t3.023991\t\t0.772595\t\t308.23\n",
      "29.00\t\t1.55041201\t\t3.041855\t\t0.773785\t\t303.75\n",
      "30.00\t\t1.54734980\t\t3.057089\t\t0.773285\t\t325.61\n"
     ]
    }
   ],
   "source": [
    "train_ifo, dev_ifo, test_ifo = ner.create_ner_ifo_from_data(train_file, dev_file, test_file,\n",
    "                                                            smoothing_coefficient=10.0, num_highest_scores=5)\n",
    "l2reg = 0.1 / len(train_ifo)\n",
    "print('l2reg:', l2reg)\n",
    "l2penalty = optim.L2Penalty(l2reg)\n",
    "\n",
    "dim = 2**16 - 1  # hard-coded. All features are hashed onto these dimensions.\n",
    "model = np.zeros(dim)\n",
    "\n",
    "# Casimir-SVRG, constant smoothing\n",
    "optim_options_1 = {'grad_lipschitz_parameter': 32.0, 'initial_smoothing_coefficient': 10.0,\n",
    "                   'warm_start': 'prev-iterate'}\n",
    "# Run optimization\n",
    "num_passes = 30\n",
    "model_1, logs_1 = optim.optimize_ifo(model, train_ifo, algorithm='casimir_svrg', dev_ifo=dev_ifo, test_ifo=None,\n",
    "                                 reg_penalties=[l2penalty], num_passes=num_passes, termination_criterion=None, seed=25,\n",
    "                                 logging=True, verbose=True,\n",
    "                                 optim_options=optim_options_1)"
   ]
  },
  {
   "cell_type": "code",
   "execution_count": 4,
   "metadata": {
    "scrolled": true
   },
   "outputs": [
    {
     "name": "stdout",
     "output_type": "stream",
     "text": [
      "l2reg: 7.1219998575600035e-06\n",
      "Epoch\t\tFunction\t\tDev_function\tDev_evaluation\t\tTime\n",
      "0.00\t\t14.50188733\t\t15.803692\t\t0.019034\t\t89.35\n",
      "1.00\t\t4.44737810\t\t5.101916\t\t0.620004\t\t329.59\n",
      "2.00\t\t2.85205273\t\t3.282753\t\t0.711367\t\t319.23\n",
      "3.00\t\t2.45146871\t\t2.983348\t\t0.729741\t\t340.33\n",
      "4.00\t\t1.95302028\t\t2.553582\t\t0.746138\t\t274.79\n",
      "5.00\t\t1.68331250\t\t2.386698\t\t0.756444\t\t281.48\n",
      "6.00\t\t1.50544692\t\t2.289160\t\t0.762231\t\t260.33\n",
      "7.00\t\t1.39805106\t\t2.239929\t\t0.767289\t\t267.69\n",
      "8.00\t\t1.32876999\t\t2.214173\t\t0.769398\t\t264.36\n",
      "9.00\t\t1.28147001\t\t2.204602\t\t0.772379\t\t242.00\n",
      "10.00\t\t1.24629827\t\t2.201327\t\t0.772924\t\t260.35\n",
      "11.00\t\t1.21911582\t\t2.200934\t\t0.772472\t\t253.23\n",
      "12.00\t\t1.19754165\t\t2.203715\t\t0.771612\t\t254.50\n",
      "13.00\t\t1.17912595\t\t2.207028\t\t0.773147\t\t252.57\n",
      "14.00\t\t1.16325676\t\t2.211452\t\t0.774300\t\t246.62\n",
      "15.00\t\t1.14951742\t\t2.218055\t\t0.775498\t\t261.86\n",
      "16.00\t\t1.13720219\t\t2.225978\t\t0.776635\t\t272.43\n",
      "17.00\t\t1.12580646\t\t2.234007\t\t0.777434\t\t289.99\n",
      "18.00\t\t1.11612018\t\t2.242446\t\t0.776951\t\t255.71\n",
      "19.00\t\t1.10713815\t\t2.247993\t\t0.775269\t\t251.11\n",
      "20.00\t\t1.09891695\t\t2.255550\t\t0.775162\t\t260.15\n",
      "21.00\t\t1.09175847\t\t2.264048\t\t0.775081\t\t257.50\n",
      "22.00\t\t1.08441573\t\t2.274688\t\t0.773813\t\t253.72\n",
      "23.00\t\t1.07784986\t\t2.282328\t\t0.772731\t\t255.94\n",
      "24.00\t\t1.07187672\t\t2.289102\t\t0.773215\t\t256.87\n",
      "25.00\t\t1.06648500\t\t2.295763\t\t0.774066\t\t255.71\n",
      "26.00\t\t1.06189212\t\t2.302908\t\t0.773947\t\t258.72\n",
      "27.00\t\t1.05725867\t\t2.309490\t\t0.773438\t\t260.53\n",
      "28.00\t\t1.05339170\t\t2.314187\t\t0.772583\t\t257.39\n",
      "29.00\t\t1.04967254\t\t2.319500\t\t0.773861\t\t253.79\n",
      "30.00\t\t1.04612362\t\t2.329151\t\t0.773120\t\t258.62\n"
     ]
    }
   ],
   "source": [
    "train_ifo, dev_ifo, test_ifo = ner.create_ner_ifo_from_data(train_file, dev_file, test_file,\n",
    "                                                            smoothing_coefficient=10.0, num_highest_scores=5)\n",
    "l2reg = 0.1 / len(train_ifo)\n",
    "print('l2reg:', l2reg)\n",
    "l2penalty = optim.L2Penalty(l2reg)\n",
    "\n",
    "dim = 2**16 - 1  # hard-coded. All features are hashed onto these dimensions.\n",
    "model = np.zeros(dim)\n",
    "\n",
    "# Casimir-SVRG, decaying smoothing\n",
    "optim_options_2 = {'learning_rate': 2e-2, 'initial_smoothing_coefficient': 2.0, 'initial_moreau_coefficient': l2reg,\n",
    "                   'warm_start': 'extrapolation'}\n",
    "\n",
    "# Run optimization\n",
    "num_passes = 30\n",
    "model_2, logs_2 = optim.optimize_ifo(model, train_ifo, algorithm='casimir_svrg', dev_ifo=dev_ifo, test_ifo=None,\n",
    "                                 reg_penalties=[l2penalty], num_passes=num_passes, termination_criterion=None, seed=25,\n",
    "                                 logging=True, verbose=True,\n",
    "                                 optim_options=optim_options_2)"
   ]
  },
  {
   "cell_type": "code",
   "execution_count": 20,
   "metadata": {},
   "outputs": [],
   "source": [
    "import pickle as pkl\n",
    "pkl.dump( model_1, open( \"data/models/e1_const.model\", \"wb\" ) )\n",
    "pkl.dump( model_2, open( \"data/models/e1_decay.model\", \"wb\" ) )\n",
    "pkl.dump( logs_1, open( \"data/logs/e1_const.log\", \"wb\" ) )\n",
    "pkl.dump( logs_2, open( \"data/logs/e1_decay.log\", \"wb\" ) )"
   ]
  },
  {
   "cell_type": "code",
   "execution_count": 61,
   "metadata": {},
   "outputs": [],
   "source": [
    "import matplotlib\n",
    "import matplotlib.pyplot as plt\n",
    "logs_1_array = np.array(logs_1)\n",
    "logs_2_array = np.array(logs_2)\n",
    "start = 2\n",
    "iteration = logs_1_array[start:,0]\n",
    "train_loss_1 = logs_1_array[start:,1]\n",
    "train_loss_2 = logs_2_array[start:,1]\n",
    "val_1 = logs_1_array[start:,3]\n",
    "val_2 = logs_2_array[start:,3]"
   ]
  },
  {
   "cell_type": "code",
   "execution_count": 62,
   "metadata": {},
   "outputs": [
    {
     "data": {
      "image/png": "[encoded data removed]",
      "text/plain": [
       "<Figure size 720x360 with 2 Axes>"
      ]
     },
     "metadata": {
      "needs_background": "light"
     },
     "output_type": "display_data"
    }
   ],
   "source": [
    "plt.figure(figsize=(10,5))\n",
    "plt.subplot(1,2,1)\n",
    "plt.plot(iteration, train_loss_1, label='constant smoothing')\n",
    "plt.plot(iteration, train_loss_2, label='decaying smoothing')\n",
    "\n",
    "plt.xlabel('iteration')\n",
    "plt.ylabel('train loss')\n",
    "plt.grid()\n",
    "plt.legend(loc='upper right', shadow=True)\n",
    "\n",
    "plt.subplot(1,2,2)\n",
    "plt.plot(iteration, val_1, label='constant smoothing')\n",
    "plt.plot(iteration, val_2, label='decaying smoothing')\n",
    "\n",
    "plt.xlabel('iteration')\n",
    "plt.ylabel('F1')\n",
    "plt.grid()\n",
    "plt.legend(loc='lower right', shadow=True)\n",
    "plt.show()"
   ]
  },
  {
   "cell_type": "code",
   "execution_count": null,
   "metadata": {},
   "outputs": [],
   "source": []
  }
 ],
 "metadata": {
  "kernelspec": {
   "display_name": "Python 3",
   "language": "python",
   "name": "python3"
  },
  "language_info": {
   "codemirror_mode": {
    "name": "ipython",
    "version": 3
   },
   "file_extension": ".py",
   "mimetype": "text/x-python",
   "name": "python",
   "nbconvert_exporter": "python",
   "pygments_lexer": "ipython3",
   "version": "3.6.10"
  }
 },
 "nbformat": 4,
 "nbformat_minor": 4
}
